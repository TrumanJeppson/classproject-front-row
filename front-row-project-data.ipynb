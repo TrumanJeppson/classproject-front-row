{
 "cells": [
  {
   "cell_type": "markdown",
   "id": "a6557bef",
   "metadata": {},
   "source": [
    "New Question Idea: What if we could predict whether a team was going to win a challenge? Possible features: challenge type: Immunity or Reward Number of Players on Team: Number of Players on opposing Team: % of women on team: Number of Challenges Previously Won: or Whether last challenge was won or lost: weather: Win or Loss: Average age of castaways on the team: type of challenge:"
   ]
  },
  {
   "cell_type": "markdown",
   "id": "2c92e513",
   "metadata": {},
   "source": [
    "# Data Cleaning"
   ]
  },
  {
   "cell_type": "code",
   "execution_count": 92,
   "id": "a9e0484e",
   "metadata": {},
   "outputs": [],
   "source": [
    "import pandas as pd\n",
    "import numpy as np\n",
    "import matplotlib.pyplot as plt\n",
    "import seaborn as sns\n",
    "sns.set_style('whitegrid')"
   ]
  },
  {
   "cell_type": "code",
   "execution_count": 117,
   "id": "c64f9b51",
   "metadata": {},
   "outputs": [],
   "source": [
    "castaways = pd.read_csv(\"castaways.csv\")\n",
    "challenges = pd.read_csv(\"challenges.csv\")\n",
    "viewers = pd.read_csv(\"viewers.csv\")\n",
    "gender = pd.read_csv(\"SurvivorPlayersCaunceTypes1636556879.csv\")\n",
    "ind_chall = pd.read_csv(\"ind_chall.csv\")"
   ]
  },
  {
   "cell_type": "code",
   "execution_count": 118,
   "id": "63768ded",
   "metadata": {},
   "outputs": [],
   "source": [
    "castaways['win'] = castaways.result.apply(lambda x: 1 if x == \"Sole Survivor\" else 0)\n",
    "castaways.castaway_id = castaways.castaway_id.astype(object)\n",
    "#castaways.win = castaways.win.astype(object)"
   ]
  },
  {
   "cell_type": "code",
   "execution_count": 119,
   "id": "d00efd74",
   "metadata": {},
   "outputs": [],
   "source": [
    "gender['full_name'] = gender['First Name'] + \" \" + gender[' Last Name']\n",
    "gender = gender[['full_name', ' Sex']]"
   ]
  },
  {
   "cell_type": "code",
   "execution_count": 120,
   "id": "89da437c",
   "metadata": {},
   "outputs": [],
   "source": [
    "castaways = castaways[['castaway_id','full_name', 'age', 'personality_type', 'state', 'win']]"
   ]
  },
  {
   "cell_type": "code",
   "execution_count": 121,
   "id": "8e34fc22",
   "metadata": {},
   "outputs": [],
   "source": [
    "cast = pd.merge(castaways, gender)\n",
    "cast = cast.dropna()"
   ]
  },
  {
   "cell_type": "code",
   "execution_count": 122,
   "id": "414d355c",
   "metadata": {},
   "outputs": [
    {
     "data": {
      "text/html": [
       "<div>\n",
       "<style scoped>\n",
       "    .dataframe tbody tr th:only-of-type {\n",
       "        vertical-align: middle;\n",
       "    }\n",
       "\n",
       "    .dataframe tbody tr th {\n",
       "        vertical-align: top;\n",
       "    }\n",
       "\n",
       "    .dataframe thead th {\n",
       "        text-align: right;\n",
       "    }\n",
       "</style>\n",
       "<table border=\"1\" class=\"dataframe\">\n",
       "  <thead>\n",
       "    <tr style=\"text-align: right;\">\n",
       "      <th></th>\n",
       "      <th>castaway_id</th>\n",
       "      <th>full_name</th>\n",
       "      <th>age</th>\n",
       "      <th>personality_type</th>\n",
       "      <th>state</th>\n",
       "      <th>win</th>\n",
       "      <th>Sex</th>\n",
       "    </tr>\n",
       "  </thead>\n",
       "  <tbody>\n",
       "    <tr>\n",
       "      <th>0</th>\n",
       "      <td>1</td>\n",
       "      <td>Sonja Christopher</td>\n",
       "      <td>63</td>\n",
       "      <td>ENFP</td>\n",
       "      <td>California</td>\n",
       "      <td>0</td>\n",
       "      <td>F</td>\n",
       "    </tr>\n",
       "    <tr>\n",
       "      <th>1</th>\n",
       "      <td>3</td>\n",
       "      <td>Stacey Stillman</td>\n",
       "      <td>27</td>\n",
       "      <td>ENTJ</td>\n",
       "      <td>California</td>\n",
       "      <td>0</td>\n",
       "      <td>F</td>\n",
       "    </tr>\n",
       "    <tr>\n",
       "      <th>2</th>\n",
       "      <td>4</td>\n",
       "      <td>Ramona Gray</td>\n",
       "      <td>29</td>\n",
       "      <td>ISTJ</td>\n",
       "      <td>New Jersey</td>\n",
       "      <td>0</td>\n",
       "      <td>F</td>\n",
       "    </tr>\n",
       "    <tr>\n",
       "      <th>3</th>\n",
       "      <td>5</td>\n",
       "      <td>Dirk Been</td>\n",
       "      <td>23</td>\n",
       "      <td>ISFP</td>\n",
       "      <td>Wisconsin</td>\n",
       "      <td>0</td>\n",
       "      <td>M</td>\n",
       "    </tr>\n",
       "    <tr>\n",
       "      <th>4</th>\n",
       "      <td>6</td>\n",
       "      <td>Joel Klug</td>\n",
       "      <td>27</td>\n",
       "      <td>ESTJ</td>\n",
       "      <td>Arkansas</td>\n",
       "      <td>0</td>\n",
       "      <td>M</td>\n",
       "    </tr>\n",
       "    <tr>\n",
       "      <th>...</th>\n",
       "      <td>...</td>\n",
       "      <td>...</td>\n",
       "      <td>...</td>\n",
       "      <td>...</td>\n",
       "      <td>...</td>\n",
       "      <td>...</td>\n",
       "      <td>...</td>\n",
       "    </tr>\n",
       "    <tr>\n",
       "      <th>885</th>\n",
       "      <td>533</td>\n",
       "      <td>Angela Perkins</td>\n",
       "      <td>42</td>\n",
       "      <td>ISTJ</td>\n",
       "      <td>Ohio</td>\n",
       "      <td>0</td>\n",
       "      <td>F</td>\n",
       "    </tr>\n",
       "    <tr>\n",
       "      <th>886</th>\n",
       "      <td>534</td>\n",
       "      <td>Laurel Johnson</td>\n",
       "      <td>29</td>\n",
       "      <td>INTP</td>\n",
       "      <td>Minnesota</td>\n",
       "      <td>0</td>\n",
       "      <td>F</td>\n",
       "    </tr>\n",
       "    <tr>\n",
       "      <th>887</th>\n",
       "      <td>535</td>\n",
       "      <td>Domenick Abbate</td>\n",
       "      <td>38</td>\n",
       "      <td>ESTP</td>\n",
       "      <td>New York</td>\n",
       "      <td>0</td>\n",
       "      <td>M</td>\n",
       "    </tr>\n",
       "    <tr>\n",
       "      <th>888</th>\n",
       "      <td>536</td>\n",
       "      <td>Wendell Holland</td>\n",
       "      <td>33</td>\n",
       "      <td>INFJ</td>\n",
       "      <td>Pennsylvania</td>\n",
       "      <td>1</td>\n",
       "      <td>M</td>\n",
       "    </tr>\n",
       "    <tr>\n",
       "      <th>889</th>\n",
       "      <td>536</td>\n",
       "      <td>Wendell Holland</td>\n",
       "      <td>35</td>\n",
       "      <td>INFJ</td>\n",
       "      <td>Pennsylvania</td>\n",
       "      <td>0</td>\n",
       "      <td>M</td>\n",
       "    </tr>\n",
       "  </tbody>\n",
       "</table>\n",
       "<p>887 rows × 7 columns</p>\n",
       "</div>"
      ],
      "text/plain": [
       "    castaway_id          full_name  age personality_type         state  win  \\\n",
       "0             1  Sonja Christopher   63             ENFP    California    0   \n",
       "1             3    Stacey Stillman   27             ENTJ    California    0   \n",
       "2             4        Ramona Gray   29             ISTJ    New Jersey    0   \n",
       "3             5          Dirk Been   23             ISFP     Wisconsin    0   \n",
       "4             6          Joel Klug   27             ESTJ      Arkansas    0   \n",
       "..          ...                ...  ...              ...           ...  ...   \n",
       "885         533     Angela Perkins   42             ISTJ          Ohio    0   \n",
       "886         534     Laurel Johnson   29             INTP     Minnesota    0   \n",
       "887         535    Domenick Abbate   38             ESTP      New York    0   \n",
       "888         536    Wendell Holland   33             INFJ  Pennsylvania    1   \n",
       "889         536    Wendell Holland   35             INFJ  Pennsylvania    0   \n",
       "\n",
       "     Sex  \n",
       "0      F  \n",
       "1      F  \n",
       "2      F  \n",
       "3      M  \n",
       "4      M  \n",
       "..   ...  \n",
       "885    F  \n",
       "886    F  \n",
       "887    M  \n",
       "888    M  \n",
       "889    M  \n",
       "\n",
       "[887 rows x 7 columns]"
      ]
     },
     "execution_count": 122,
     "metadata": {},
     "output_type": "execute_result"
    }
   ],
   "source": [
    "cast"
   ]
  },
  {
   "cell_type": "markdown",
   "id": "36728400",
   "metadata": {},
   "source": [
    "# Exploratory Data Analysis"
   ]
  },
  {
   "cell_type": "code",
   "execution_count": 123,
   "id": "a09b26a1",
   "metadata": {},
   "outputs": [
    {
     "data": {
      "text/html": [
       "<div>\n",
       "<style scoped>\n",
       "    .dataframe tbody tr th:only-of-type {\n",
       "        vertical-align: middle;\n",
       "    }\n",
       "\n",
       "    .dataframe tbody tr th {\n",
       "        vertical-align: top;\n",
       "    }\n",
       "\n",
       "    .dataframe thead th {\n",
       "        text-align: right;\n",
       "    }\n",
       "</style>\n",
       "<table border=\"1\" class=\"dataframe\">\n",
       "  <thead>\n",
       "    <tr style=\"text-align: right;\">\n",
       "      <th></th>\n",
       "      <th>personality_type</th>\n",
       "      <th>state</th>\n",
       "      <th>Sex</th>\n",
       "      <th>age</th>\n",
       "      <th>win</th>\n",
       "    </tr>\n",
       "  </thead>\n",
       "  <tbody>\n",
       "    <tr>\n",
       "      <th>166</th>\n",
       "      <td>ESTP</td>\n",
       "      <td>Washington</td>\n",
       "      <td>F</td>\n",
       "      <td>29.000000</td>\n",
       "      <td>1.000000</td>\n",
       "    </tr>\n",
       "    <tr>\n",
       "      <th>178</th>\n",
       "      <td>INFJ</td>\n",
       "      <td>Texas</td>\n",
       "      <td>F</td>\n",
       "      <td>29.000000</td>\n",
       "      <td>1.000000</td>\n",
       "    </tr>\n",
       "    <tr>\n",
       "      <th>42</th>\n",
       "      <td>ENFP</td>\n",
       "      <td>Utah</td>\n",
       "      <td>M</td>\n",
       "      <td>22.000000</td>\n",
       "      <td>1.000000</td>\n",
       "    </tr>\n",
       "    <tr>\n",
       "      <th>67</th>\n",
       "      <td>ENTP</td>\n",
       "      <td>Ohio</td>\n",
       "      <td>M</td>\n",
       "      <td>33.000000</td>\n",
       "      <td>1.000000</td>\n",
       "    </tr>\n",
       "    <tr>\n",
       "      <th>229</th>\n",
       "      <td>ISFJ</td>\n",
       "      <td>Arkansas</td>\n",
       "      <td>F</td>\n",
       "      <td>26.000000</td>\n",
       "      <td>1.000000</td>\n",
       "    </tr>\n",
       "    <tr>\n",
       "      <th>259</th>\n",
       "      <td>ISFP</td>\n",
       "      <td>Massachusetts</td>\n",
       "      <td>M</td>\n",
       "      <td>28.666667</td>\n",
       "      <td>0.666667</td>\n",
       "    </tr>\n",
       "    <tr>\n",
       "      <th>100</th>\n",
       "      <td>ESFP</td>\n",
       "      <td>Idaho</td>\n",
       "      <td>M</td>\n",
       "      <td>35.000000</td>\n",
       "      <td>0.500000</td>\n",
       "    </tr>\n",
       "    <tr>\n",
       "      <th>310</th>\n",
       "      <td>ISTP</td>\n",
       "      <td>Pennsylvania</td>\n",
       "      <td>F</td>\n",
       "      <td>21.500000</td>\n",
       "      <td>0.500000</td>\n",
       "    </tr>\n",
       "    <tr>\n",
       "      <th>4</th>\n",
       "      <td>ENFJ</td>\n",
       "      <td>Kansas</td>\n",
       "      <td>F</td>\n",
       "      <td>36.000000</td>\n",
       "      <td>0.500000</td>\n",
       "    </tr>\n",
       "    <tr>\n",
       "      <th>161</th>\n",
       "      <td>ESTP</td>\n",
       "      <td>Texas</td>\n",
       "      <td>M</td>\n",
       "      <td>31.000000</td>\n",
       "      <td>0.500000</td>\n",
       "    </tr>\n",
       "    <tr>\n",
       "      <th>158</th>\n",
       "      <td>ESTP</td>\n",
       "      <td>North Carolina</td>\n",
       "      <td>F</td>\n",
       "      <td>38.000000</td>\n",
       "      <td>0.500000</td>\n",
       "    </tr>\n",
       "    <tr>\n",
       "      <th>171</th>\n",
       "      <td>INFJ</td>\n",
       "      <td>Iowa</td>\n",
       "      <td>F</td>\n",
       "      <td>44.500000</td>\n",
       "      <td>0.500000</td>\n",
       "    </tr>\n",
       "    <tr>\n",
       "      <th>177</th>\n",
       "      <td>INFJ</td>\n",
       "      <td>Pennsylvania</td>\n",
       "      <td>M</td>\n",
       "      <td>34.000000</td>\n",
       "      <td>0.500000</td>\n",
       "    </tr>\n",
       "    <tr>\n",
       "      <th>69</th>\n",
       "      <td>ENTP</td>\n",
       "      <td>Rhode Island</td>\n",
       "      <td>M</td>\n",
       "      <td>40.500000</td>\n",
       "      <td>0.500000</td>\n",
       "    </tr>\n",
       "    <tr>\n",
       "      <th>156</th>\n",
       "      <td>ESTP</td>\n",
       "      <td>New Jersey</td>\n",
       "      <td>M</td>\n",
       "      <td>38.444444</td>\n",
       "      <td>0.444444</td>\n",
       "    </tr>\n",
       "    <tr>\n",
       "      <th>267</th>\n",
       "      <td>ISFP</td>\n",
       "      <td>Pennsylvania</td>\n",
       "      <td>F</td>\n",
       "      <td>23.800000</td>\n",
       "      <td>0.400000</td>\n",
       "    </tr>\n",
       "    <tr>\n",
       "      <th>217</th>\n",
       "      <td>INTP</td>\n",
       "      <td>D.C.</td>\n",
       "      <td>M</td>\n",
       "      <td>26.200000</td>\n",
       "      <td>0.400000</td>\n",
       "    </tr>\n",
       "    <tr>\n",
       "      <th>89</th>\n",
       "      <td>ESFJ</td>\n",
       "      <td>Tennessee</td>\n",
       "      <td>F</td>\n",
       "      <td>39.500000</td>\n",
       "      <td>0.375000</td>\n",
       "    </tr>\n",
       "    <tr>\n",
       "      <th>112</th>\n",
       "      <td>ESFP</td>\n",
       "      <td>New Jersey</td>\n",
       "      <td>F</td>\n",
       "      <td>27.000000</td>\n",
       "      <td>0.333333</td>\n",
       "    </tr>\n",
       "    <tr>\n",
       "      <th>204</th>\n",
       "      <td>INTJ</td>\n",
       "      <td>California</td>\n",
       "      <td>M</td>\n",
       "      <td>35.333333</td>\n",
       "      <td>0.333333</td>\n",
       "    </tr>\n",
       "  </tbody>\n",
       "</table>\n",
       "</div>"
      ],
      "text/plain": [
       "    personality_type           state  Sex        age       win\n",
       "166             ESTP      Washington    F  29.000000  1.000000\n",
       "178             INFJ           Texas    F  29.000000  1.000000\n",
       "42              ENFP            Utah    M  22.000000  1.000000\n",
       "67              ENTP            Ohio    M  33.000000  1.000000\n",
       "229             ISFJ        Arkansas    F  26.000000  1.000000\n",
       "259             ISFP   Massachusetts    M  28.666667  0.666667\n",
       "100             ESFP           Idaho    M  35.000000  0.500000\n",
       "310             ISTP    Pennsylvania    F  21.500000  0.500000\n",
       "4               ENFJ          Kansas    F  36.000000  0.500000\n",
       "161             ESTP           Texas    M  31.000000  0.500000\n",
       "158             ESTP  North Carolina    F  38.000000  0.500000\n",
       "171             INFJ            Iowa    F  44.500000  0.500000\n",
       "177             INFJ    Pennsylvania    M  34.000000  0.500000\n",
       "69              ENTP    Rhode Island    M  40.500000  0.500000\n",
       "156             ESTP      New Jersey    M  38.444444  0.444444\n",
       "267             ISFP    Pennsylvania    F  23.800000  0.400000\n",
       "217             INTP            D.C.    M  26.200000  0.400000\n",
       "89              ESFJ       Tennessee    F  39.500000  0.375000\n",
       "112             ESFP      New Jersey    F  27.000000  0.333333\n",
       "204             INTJ      California    M  35.333333  0.333333"
      ]
     },
     "execution_count": 123,
     "metadata": {},
     "output_type": "execute_result"
    }
   ],
   "source": [
    "percent_wins = cast.groupby(['personality_type', 'state', ' Sex']).mean().reset_index()\n",
    "percent_wins.sort_values(by = 'win', axis = 0, ascending = False).head(20)"
   ]
  },
  {
   "cell_type": "code",
   "execution_count": 131,
   "id": "8fb4ecff",
   "metadata": {},
   "outputs": [],
   "source": [
    "state_wins = cast[['win', 'state']].groupby(['state']).mean().reset_index()"
   ]
  },
  {
   "cell_type": "code",
   "execution_count": 144,
   "id": "7adedd5f",
   "metadata": {},
   "outputs": [
    {
     "data": {
      "text/plain": [
       "<AxesSubplot:xlabel='win', ylabel='state'>"
      ]
     },
     "execution_count": 144,
     "metadata": {},
     "output_type": "execute_result"
    },
    {
     "data": {
      "image/png": "[encoded data removed]",
      "text/plain": [
       "<Figure size 432x288 with 1 Axes>"
      ]
     },
     "metadata": {},
     "output_type": "display_data"
    }
   ],
   "source": [
    "sns.barplot(x = 'win', y = 'state', data = state_wins)"
   ]
  },
  {
   "cell_type": "code",
   "execution_count": 151,
   "id": "ab229681",
   "metadata": {},
   "outputs": [
    {
     "data": {
      "text/plain": [
       "<AxesSubplot:xlabel='win', ylabel='age'>"
      ]
     },
     "execution_count": 151,
     "metadata": {},
     "output_type": "execute_result"
    },
    {
     "data": {
      "image/png": "[encoded data removed]",
      "text/plain": [
       "<Figure size 432x288 with 1 Axes>"
      ]
     },
     "metadata": {},
     "output_type": "display_data"
    }
   ],
   "source": [
    "sns.boxplot(x = 'win', y = 'age', data = cast, hue = ' Sex')"
   ]
  },
  {
   "cell_type": "code",
   "execution_count": 149,
   "id": "5dd50ee7",
   "metadata": {},
   "outputs": [
    {
     "data": {
      "text/plain": [
       "<AxesSubplot:xlabel='win', ylabel='personality_type'>"
      ]
     },
     "execution_count": 149,
     "metadata": {},
     "output_type": "execute_result"
    },
    {
     "data": {
      "image/png": "[encoded data removed]",
      "text/plain": [
       "<Figure size 432x288 with 1 Axes>"
      ]
     },
     "metadata": {},
     "output_type": "display_data"
    }
   ],
   "source": [
    "pers_sex_int = cast[['personality_type', ' Sex', 'win']].groupby(['personality_type', ' Sex']).mean().reset_index()\n",
    "sns.barplot(x = 'win', y = 'personality_type', data = pers_sex_int)"
   ]
  },
  {
   "cell_type": "code",
   "execution_count": 150,
   "id": "66213166",
   "metadata": {},
   "outputs": [
    {
     "data": {
      "text/plain": [
       "<AxesSubplot:xlabel='personality_type', ylabel='win'>"
      ]
     },
     "execution_count": 150,
     "metadata": {},
     "output_type": "execute_result"
    },
    {
     "data": {
      "image/png": "[encoded data removed]",
      "text/plain": [
       "<Figure size 432x288 with 1 Axes>"
      ]
     },
     "metadata": {},
     "output_type": "display_data"
    }
   ],
   "source": [
    "sns.lineplot(x = 'personality_type', y = 'win', data = pers_sex_int, hue = ' Sex')"
   ]
  },
  {
   "cell_type": "markdown",
   "id": "0bc988f1",
   "metadata": {},
   "source": [
    "# Modeling"
   ]
  },
  {
   "cell_type": "code",
   "execution_count": 77,
   "id": "f0ca26c2",
   "metadata": {},
   "outputs": [],
   "source": [
    "from sklearn.model_selection import train_test_split, cross_val_score\n",
    "from sklearn.naive_bayes import MultinomialNB\n",
    "from sklearn.linear_model import LogisticRegression\n",
    "from sklearn.tree import DecisionTreeClassifier       \n",
    "from sklearn.ensemble import BaggingClassifier, RandomForestClassifier, GradientBoostingClassifier     \n",
    "from sklearn import tree, preprocessing\n",
    "from sklearn.metrics import confusion_matrix, roc_auc_score, roc_curve\n",
    "from sklearn import metrics\n",
    "from sklearn.feature_extraction.text import CountVectorizer\n",
    "from sklearn.pipeline import Pipeline, FeatureUnion\n",
    "from sklearn.impute import SimpleImputer\n",
    "from sklearn.compose import ColumnTransformer\n",
    "from sklearn.preprocessing import OneHotEncoder, MinMaxScaler "
   ]
  },
  {
   "cell_type": "code",
   "execution_count": 78,
   "id": "9957abaa",
   "metadata": {},
   "outputs": [
    {
     "data": {
      "text/html": [
       "<div>\n",
       "<style scoped>\n",
       "    .dataframe tbody tr th:only-of-type {\n",
       "        vertical-align: middle;\n",
       "    }\n",
       "\n",
       "    .dataframe tbody tr th {\n",
       "        vertical-align: top;\n",
       "    }\n",
       "\n",
       "    .dataframe thead th {\n",
       "        text-align: right;\n",
       "    }\n",
       "</style>\n",
       "<table border=\"1\" class=\"dataframe\">\n",
       "  <thead>\n",
       "    <tr style=\"text-align: right;\">\n",
       "      <th></th>\n",
       "      <th>castaway_id</th>\n",
       "      <th>full_name</th>\n",
       "      <th>age</th>\n",
       "      <th>personality_type</th>\n",
       "      <th>state</th>\n",
       "      <th>win</th>\n",
       "      <th>Sex</th>\n",
       "    </tr>\n",
       "  </thead>\n",
       "  <tbody>\n",
       "    <tr>\n",
       "      <th>0</th>\n",
       "      <td>1</td>\n",
       "      <td>Sonja Christopher</td>\n",
       "      <td>63</td>\n",
       "      <td>1</td>\n",
       "      <td>3</td>\n",
       "      <td>0</td>\n",
       "      <td>0</td>\n",
       "    </tr>\n",
       "    <tr>\n",
       "      <th>1</th>\n",
       "      <td>3</td>\n",
       "      <td>Stacey Stillman</td>\n",
       "      <td>27</td>\n",
       "      <td>2</td>\n",
       "      <td>3</td>\n",
       "      <td>0</td>\n",
       "      <td>0</td>\n",
       "    </tr>\n",
       "    <tr>\n",
       "      <th>2</th>\n",
       "      <td>4</td>\n",
       "      <td>Ramona Gray</td>\n",
       "      <td>29</td>\n",
       "      <td>14</td>\n",
       "      <td>27</td>\n",
       "      <td>0</td>\n",
       "      <td>0</td>\n",
       "    </tr>\n",
       "    <tr>\n",
       "      <th>3</th>\n",
       "      <td>5</td>\n",
       "      <td>Dirk Been</td>\n",
       "      <td>23</td>\n",
       "      <td>13</td>\n",
       "      <td>43</td>\n",
       "      <td>0</td>\n",
       "      <td>1</td>\n",
       "    </tr>\n",
       "    <tr>\n",
       "      <th>4</th>\n",
       "      <td>6</td>\n",
       "      <td>Joel Klug</td>\n",
       "      <td>27</td>\n",
       "      <td>6</td>\n",
       "      <td>2</td>\n",
       "      <td>0</td>\n",
       "      <td>1</td>\n",
       "    </tr>\n",
       "    <tr>\n",
       "      <th>...</th>\n",
       "      <td>...</td>\n",
       "      <td>...</td>\n",
       "      <td>...</td>\n",
       "      <td>...</td>\n",
       "      <td>...</td>\n",
       "      <td>...</td>\n",
       "      <td>...</td>\n",
       "    </tr>\n",
       "    <tr>\n",
       "      <th>885</th>\n",
       "      <td>533</td>\n",
       "      <td>Angela Perkins</td>\n",
       "      <td>42</td>\n",
       "      <td>14</td>\n",
       "      <td>30</td>\n",
       "      <td>0</td>\n",
       "      <td>0</td>\n",
       "    </tr>\n",
       "    <tr>\n",
       "      <th>886</th>\n",
       "      <td>534</td>\n",
       "      <td>Laurel Johnson</td>\n",
       "      <td>29</td>\n",
       "      <td>11</td>\n",
       "      <td>21</td>\n",
       "      <td>0</td>\n",
       "      <td>0</td>\n",
       "    </tr>\n",
       "    <tr>\n",
       "      <th>887</th>\n",
       "      <td>535</td>\n",
       "      <td>Domenick Abbate</td>\n",
       "      <td>38</td>\n",
       "      <td>7</td>\n",
       "      <td>28</td>\n",
       "      <td>0</td>\n",
       "      <td>1</td>\n",
       "    </tr>\n",
       "    <tr>\n",
       "      <th>888</th>\n",
       "      <td>536</td>\n",
       "      <td>Wendell Holland</td>\n",
       "      <td>33</td>\n",
       "      <td>8</td>\n",
       "      <td>33</td>\n",
       "      <td>1</td>\n",
       "      <td>1</td>\n",
       "    </tr>\n",
       "    <tr>\n",
       "      <th>889</th>\n",
       "      <td>536</td>\n",
       "      <td>Wendell Holland</td>\n",
       "      <td>35</td>\n",
       "      <td>8</td>\n",
       "      <td>33</td>\n",
       "      <td>0</td>\n",
       "      <td>1</td>\n",
       "    </tr>\n",
       "  </tbody>\n",
       "</table>\n",
       "<p>887 rows × 7 columns</p>\n",
       "</div>"
      ],
      "text/plain": [
       "    castaway_id          full_name  age  personality_type  state  win   Sex\n",
       "0             1  Sonja Christopher   63                 1      3    0     0\n",
       "1             3    Stacey Stillman   27                 2      3    0     0\n",
       "2             4        Ramona Gray   29                14     27    0     0\n",
       "3             5          Dirk Been   23                13     43    0     1\n",
       "4             6          Joel Klug   27                 6      2    0     1\n",
       "..          ...                ...  ...               ...    ...  ...   ...\n",
       "885         533     Angela Perkins   42                14     30    0     0\n",
       "886         534     Laurel Johnson   29                11     21    0     0\n",
       "887         535    Domenick Abbate   38                 7     28    0     1\n",
       "888         536    Wendell Holland   33                 8     33    1     1\n",
       "889         536    Wendell Holland   35                 8     33    0     1\n",
       "\n",
       "[887 rows x 7 columns]"
      ]
     },
     "execution_count": 78,
     "metadata": {},
     "output_type": "execute_result"
    }
   ],
   "source": [
    "#creating labelEncoder\n",
    "le = preprocessing.LabelEncoder()\n",
    "# Converting string labels into numbers.\n",
    "pers_encoded=le.fit_transform(cast['personality_type'])\n",
    "state_encoded=le.fit_transform(cast['state'])\n",
    "test_encoded=le.fit_transform(cast[' Sex'])\n",
    "\n",
    "cast['personality_type'] = pers_encoded\n",
    "cast['state'] = state_encoded\n",
    "cast[' Sex'] = test_encoded\n",
    "cast"
   ]
  },
  {
   "cell_type": "code",
   "execution_count": 79,
   "id": "be7bcd89",
   "metadata": {},
   "outputs": [],
   "source": [
    "Y = cast.win\n",
    "X = cast[['age', 'personality_type', 'state', ' Sex']]"
   ]
  },
  {
   "cell_type": "code",
   "execution_count": 80,
   "id": "94058477",
   "metadata": {},
   "outputs": [],
   "source": [
    "X_train, X_test, y_train, y_test = train_test_split(X, Y, random_state=713, test_size=0.4)"
   ]
  },
  {
   "cell_type": "code",
   "execution_count": 81,
   "id": "22444b0f",
   "metadata": {},
   "outputs": [],
   "source": [
    "nb = MultinomialNB()"
   ]
  },
  {
   "cell_type": "code",
   "execution_count": 82,
   "id": "98160316",
   "metadata": {},
   "outputs": [],
   "source": [
    "def hw (model, X_train, y_train, X_test, y_test):\n",
    "    model.fit(X_train, y_train)\n",
    "    y_hat_test = model.predict(X_test)\n",
    "    y_hat_train = model.predict(X_train)\n",
    "    y_prob_test = model.predict_proba(X_test)[:,1]\n",
    "    y_prob_train = model.predict_proba(X_test)[:,1]\n",
    "    train_accuracy = metrics.accuracy_score(y_train, y_hat_train)\n",
    "    test_accuracy = metrics.accuracy_score(y_test, y_hat_test)\n",
    "    f1_test = metrics.f1_score(y_test, y_hat_test)\n",
    "    f1_train = metrics.f1_score(y_train, y_hat_train)\n",
    "    auc_test = roc_auc_score(y_test, y_prob_test)\n",
    "    auc_train = roc_auc_score(y_test, y_prob_train)\n",
    "    total = {'accuracy': [train_accuracy,test_accuracy], 'F1':[f1_train, f1_test], 'AUC': [auc_train, auc_test] }\n",
    "    df = pd.DataFrame.from_dict(total, orient = 'index', columns = ['train', 'test'])\n",
    "    return [df, y_prob_test]"
   ]
  },
  {
   "cell_type": "code",
   "execution_count": 83,
   "id": "a53af2fb",
   "metadata": {},
   "outputs": [
    {
     "data": {
      "text/html": [
       "<div>\n",
       "<style scoped>\n",
       "    .dataframe tbody tr th:only-of-type {\n",
       "        vertical-align: middle;\n",
       "    }\n",
       "\n",
       "    .dataframe tbody tr th {\n",
       "        vertical-align: top;\n",
       "    }\n",
       "\n",
       "    .dataframe thead th {\n",
       "        text-align: right;\n",
       "    }\n",
       "</style>\n",
       "<table border=\"1\" class=\"dataframe\">\n",
       "  <thead>\n",
       "    <tr style=\"text-align: right;\">\n",
       "      <th></th>\n",
       "      <th>train</th>\n",
       "      <th>test</th>\n",
       "    </tr>\n",
       "  </thead>\n",
       "  <tbody>\n",
       "    <tr>\n",
       "      <th>accuracy</th>\n",
       "      <td>0.793233</td>\n",
       "      <td>0.794366</td>\n",
       "    </tr>\n",
       "    <tr>\n",
       "      <th>F1</th>\n",
       "      <td>0.126984</td>\n",
       "      <td>0.141176</td>\n",
       "    </tr>\n",
       "    <tr>\n",
       "      <th>AUC</th>\n",
       "      <td>0.654449</td>\n",
       "      <td>0.654449</td>\n",
       "    </tr>\n",
       "  </tbody>\n",
       "</table>\n",
       "</div>"
      ],
      "text/plain": [
       "             train      test\n",
       "accuracy  0.793233  0.794366\n",
       "F1        0.126984  0.141176\n",
       "AUC       0.654449  0.654449"
      ]
     },
     "execution_count": 83,
     "metadata": {},
     "output_type": "execute_result"
    }
   ],
   "source": [
    "nb_res = hw(nb, X_train, y_train, X_test, y_test)\n",
    "nb_res[0]"
   ]
  },
  {
   "cell_type": "code",
   "execution_count": null,
   "id": "b318c015",
   "metadata": {},
   "outputs": [],
   "source": [
    "fpr, tpr, thresh = roc_curve(y_test, y_prob)"
   ]
  },
  {
   "cell_type": "code",
   "execution_count": 84,
   "id": "bbca57e5",
   "metadata": {},
   "outputs": [
    {
     "data": {
      "text/html": [
       "<div>\n",
       "<style scoped>\n",
       "    .dataframe tbody tr th:only-of-type {\n",
       "        vertical-align: middle;\n",
       "    }\n",
       "\n",
       "    .dataframe tbody tr th {\n",
       "        vertical-align: top;\n",
       "    }\n",
       "\n",
       "    .dataframe thead th {\n",
       "        text-align: right;\n",
       "    }\n",
       "</style>\n",
       "<table border=\"1\" class=\"dataframe\">\n",
       "  <thead>\n",
       "    <tr style=\"text-align: right;\">\n",
       "      <th></th>\n",
       "      <th>train</th>\n",
       "      <th>test</th>\n",
       "    </tr>\n",
       "  </thead>\n",
       "  <tbody>\n",
       "    <tr>\n",
       "      <th>accuracy</th>\n",
       "      <td>0.926692</td>\n",
       "      <td>0.946479</td>\n",
       "    </tr>\n",
       "    <tr>\n",
       "      <th>F1</th>\n",
       "      <td>0.000000</td>\n",
       "      <td>0.000000</td>\n",
       "    </tr>\n",
       "    <tr>\n",
       "      <th>AUC</th>\n",
       "      <td>0.622024</td>\n",
       "      <td>0.622024</td>\n",
       "    </tr>\n",
       "  </tbody>\n",
       "</table>\n",
       "</div>"
      ],
      "text/plain": [
       "             train      test\n",
       "accuracy  0.926692  0.946479\n",
       "F1        0.000000  0.000000\n",
       "AUC       0.622024  0.622024"
      ]
     },
     "execution_count": 84,
     "metadata": {},
     "output_type": "execute_result"
    }
   ],
   "source": [
    "lr = LogisticRegression(solver='liblinear', C=1)\n",
    "lr_res = hw(lr, X_train, y_train, X_test, y_test)\n",
    "lr_res[0]"
   ]
  },
  {
   "cell_type": "code",
   "execution_count": 87,
   "id": "47a5bfac",
   "metadata": {},
   "outputs": [
    {
     "name": "stdout",
     "output_type": "stream",
     "text": [
      "7\n"
     ]
    }
   ],
   "source": [
    "dc = DecisionTreeClassifier()\n",
    "all_scores = []\n",
    "tree_depth = np.arange(2,30)\n",
    "for d in tree_depth:\n",
    "    tree = DecisionTreeClassifier(max_depth=d) \n",
    "    scores = cross_val_score(tree,X_train,y_train, cv=10) \n",
    "    all_scores.append(scores.mean())\n",
    "n_depth = tree_depth[np.argmax(all_scores)]\n",
    "print(n_depth)"
   ]
  },
  {
   "cell_type": "code",
   "execution_count": 88,
   "id": "b1b21f6c",
   "metadata": {},
   "outputs": [
    {
     "data": {
      "text/html": [
       "<div>\n",
       "<style scoped>\n",
       "    .dataframe tbody tr th:only-of-type {\n",
       "        vertical-align: middle;\n",
       "    }\n",
       "\n",
       "    .dataframe tbody tr th {\n",
       "        vertical-align: top;\n",
       "    }\n",
       "\n",
       "    .dataframe thead th {\n",
       "        text-align: right;\n",
       "    }\n",
       "</style>\n",
       "<table border=\"1\" class=\"dataframe\">\n",
       "  <thead>\n",
       "    <tr style=\"text-align: right;\">\n",
       "      <th></th>\n",
       "      <th>train</th>\n",
       "      <th>test</th>\n",
       "    </tr>\n",
       "  </thead>\n",
       "  <tbody>\n",
       "    <tr>\n",
       "      <th>accuracy</th>\n",
       "      <td>0.954887</td>\n",
       "      <td>0.938028</td>\n",
       "    </tr>\n",
       "    <tr>\n",
       "      <th>F1</th>\n",
       "      <td>0.571429</td>\n",
       "      <td>0.083333</td>\n",
       "    </tr>\n",
       "    <tr>\n",
       "      <th>AUC</th>\n",
       "      <td>0.795504</td>\n",
       "      <td>0.795504</td>\n",
       "    </tr>\n",
       "  </tbody>\n",
       "</table>\n",
       "</div>"
      ],
      "text/plain": [
       "             train      test\n",
       "accuracy  0.954887  0.938028\n",
       "F1        0.571429  0.083333\n",
       "AUC       0.795504  0.795504"
      ]
     },
     "execution_count": 88,
     "metadata": {},
     "output_type": "execute_result"
    }
   ],
   "source": [
    "dc = DecisionTreeClassifier(max_depth = n_depth)\n",
    "dc_res = hw(dc, X_train, y_train, X_test, y_test)\n",
    "dc_res[0]"
   ]
  },
  {
   "cell_type": "code",
   "execution_count": 89,
   "id": "a80bf205",
   "metadata": {},
   "outputs": [
    {
     "data": {
      "text/html": [
       "<div>\n",
       "<style scoped>\n",
       "    .dataframe tbody tr th:only-of-type {\n",
       "        vertical-align: middle;\n",
       "    }\n",
       "\n",
       "    .dataframe tbody tr th {\n",
       "        vertical-align: top;\n",
       "    }\n",
       "\n",
       "    .dataframe thead th {\n",
       "        text-align: right;\n",
       "    }\n",
       "</style>\n",
       "<table border=\"1\" class=\"dataframe\">\n",
       "  <thead>\n",
       "    <tr style=\"text-align: right;\">\n",
       "      <th></th>\n",
       "      <th>train</th>\n",
       "      <th>test</th>\n",
       "    </tr>\n",
       "  </thead>\n",
       "  <tbody>\n",
       "    <tr>\n",
       "      <th>accuracy</th>\n",
       "      <td>0.926692</td>\n",
       "      <td>0.946479</td>\n",
       "    </tr>\n",
       "    <tr>\n",
       "      <th>F1</th>\n",
       "      <td>0.000000</td>\n",
       "      <td>0.000000</td>\n",
       "    </tr>\n",
       "    <tr>\n",
       "      <th>AUC</th>\n",
       "      <td>0.799655</td>\n",
       "      <td>0.799655</td>\n",
       "    </tr>\n",
       "  </tbody>\n",
       "</table>\n",
       "</div>"
      ],
      "text/plain": [
       "             train      test\n",
       "accuracy  0.926692  0.946479\n",
       "F1        0.000000  0.000000\n",
       "AUC       0.799655  0.799655"
      ]
     },
     "execution_count": 89,
     "metadata": {},
     "output_type": "execute_result"
    }
   ],
   "source": [
    "rf = RandomForestClassifier(n_estimators=100, n_jobs=-1, max_depth=3)\n",
    "rf_res = hw(rf, X_train, y_train, X_test, y_test)\n",
    "rf_res[0]"
   ]
  },
  {
   "cell_type": "code",
   "execution_count": 90,
   "id": "012dd4c5",
   "metadata": {},
   "outputs": [
    {
     "data": {
      "text/html": [
       "<div>\n",
       "<style scoped>\n",
       "    .dataframe tbody tr th:only-of-type {\n",
       "        vertical-align: middle;\n",
       "    }\n",
       "\n",
       "    .dataframe tbody tr th {\n",
       "        vertical-align: top;\n",
       "    }\n",
       "\n",
       "    .dataframe thead th {\n",
       "        text-align: right;\n",
       "    }\n",
       "</style>\n",
       "<table border=\"1\" class=\"dataframe\">\n",
       "  <thead>\n",
       "    <tr style=\"text-align: right;\">\n",
       "      <th></th>\n",
       "      <th>train</th>\n",
       "      <th>test</th>\n",
       "    </tr>\n",
       "  </thead>\n",
       "  <tbody>\n",
       "    <tr>\n",
       "      <th>accuracy</th>\n",
       "      <td>0.958647</td>\n",
       "      <td>0.940845</td>\n",
       "    </tr>\n",
       "    <tr>\n",
       "      <th>F1</th>\n",
       "      <td>0.620690</td>\n",
       "      <td>0.086957</td>\n",
       "    </tr>\n",
       "    <tr>\n",
       "      <th>AUC</th>\n",
       "      <td>0.865602</td>\n",
       "      <td>0.865602</td>\n",
       "    </tr>\n",
       "  </tbody>\n",
       "</table>\n",
       "</div>"
      ],
      "text/plain": [
       "             train      test\n",
       "accuracy  0.958647  0.940845\n",
       "F1        0.620690  0.086957\n",
       "AUC       0.865602  0.865602"
      ]
     },
     "execution_count": 90,
     "metadata": {},
     "output_type": "execute_result"
    }
   ],
   "source": [
    "gb = GradientBoostingClassifier(n_estimators=100, learning_rate=.1)\n",
    "gb_res = hw(gb, X_train, y_train, X_test, y_test)\n",
    "gb_res[0]"
   ]
  },
  {
   "cell_type": "code",
   "execution_count": 93,
   "id": "14aedb81",
   "metadata": {},
   "outputs": [
    {
     "data": {
      "text/plain": [
       "<matplotlib.legend.Legend at 0x20746c86b50>"
      ]
     },
     "execution_count": 93,
     "metadata": {},
     "output_type": "execute_result"
    },
    {
     "data": {
      "image/png": "[encoded data removed]",
      "text/plain": [
       "<Figure size 432x288 with 1 Axes>"
      ]
     },
     "metadata": {},
     "output_type": "display_data"
    }
   ],
   "source": [
    "fpr, tpr, thresh = roc_curve(y_test, nb_res[1])\n",
    "fpr_l, tpr_l, thresh_l = roc_curve(y_test, lr_res[1])\n",
    "fpr_2, tpr_2, thresh_2 = roc_curve(y_test, dc_res[1])\n",
    "fpr_3, tpr_3, thresh_3 = roc_curve(y_test, rf_res[1])\n",
    "fpr_4, tpr_4, thresh_4 = roc_curve(y_test, gb_res[1])\n",
    "\n",
    "plt.plot(fpr, tpr, color='orange', label='NB')\n",
    "plt.plot(fpr_l, tpr_l, color='green', label='LR')\n",
    "plt.plot(fpr_2, tpr_2, color='blue', label='DT')\n",
    "plt.plot(fpr_3, tpr_3, color='red', label='RF')\n",
    "plt.plot(fpr_4, tpr_4, color='purple', label='GB')\n",
    "plt.plot([0, 1], [0, 1], color='darkblue', linestyle='--')\n",
    "plt.xlabel('False Positive Rate')\n",
    "plt.ylabel('True Positive Rate')\n",
    "plt.title('Receiver Operating Characteristic (ROC) Curve')\n",
    "plt.legend()"
   ]
  },
  {
   "cell_type": "markdown",
   "id": "d4786ec1",
   "metadata": {},
   "source": [
    "# Results"
   ]
  },
  {
   "cell_type": "code",
   "execution_count": 97,
   "id": "015c7efc",
   "metadata": {},
   "outputs": [
    {
     "data": {
      "image/png": "[encoded data removed]",
      "text/plain": [
       "<Figure size 432x288 with 1 Axes>"
      ]
     },
     "metadata": {},
     "output_type": "display_data"
    }
   ],
   "source": [
    "Importance = pd.DataFrame({'Importance':gb.feature_importances_*100}, index=X.columns)\n",
    "Importance = Importance.iloc[gb.feature_importances_ > 0,:]\n",
    "Importance = Importance.sort_values('Importance', axis=0, ascending=True)\n",
    "Importance.plot(kind='barh', color='b', )\n",
    "plt.xlabel('Variable Importance')\n",
    "plt.gca().legend_ = None"
   ]
  },
  {
   "cell_type": "code",
   "execution_count": null,
   "id": "bea571cf",
   "metadata": {},
   "outputs": [],
   "source": []
  }
 ],
 "metadata": {
  "kernelspec": {
   "display_name": "Python 3",
   "language": "python",
   "name": "python3"
  },
  "language_info": {
   "codemirror_mode": {
    "name": "ipython",
    "version": 3
   },
   "file_extension": ".py",
   "mimetype": "text/x-python",
   "name": "python",
   "nbconvert_exporter": "python",
   "pygments_lexer": "ipython3",
   "version": "3.8.8"
  }
 },
 "nbformat": 4,
 "nbformat_minor": 5
}
